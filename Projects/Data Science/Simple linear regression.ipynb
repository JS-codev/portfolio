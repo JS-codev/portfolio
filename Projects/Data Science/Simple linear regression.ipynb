#Simple linear regression Project
#Import the relevant libraries
import numpy as np
import pandas as pd
import matplotlib.pyplot as plt
import statsmodels.api as sm
import seaborn as sns
sns.set(style="whitegrid") #darkgrid, dark, white, ticks
