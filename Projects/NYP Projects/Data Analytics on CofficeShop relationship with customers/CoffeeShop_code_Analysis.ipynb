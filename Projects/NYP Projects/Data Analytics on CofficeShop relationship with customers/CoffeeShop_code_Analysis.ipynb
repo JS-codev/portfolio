{
 "cells": [
  {
   "cell_type": "markdown",
   "metadata": {
    "id": "j9hGxHSUmgID"
   },
   "source": [
    "# **Instructions:**\n",
    "\n",
    "1.   Please use this template for your assignment.\n",
    "2.   Rename the file to YourName_AdminNo_Coffeeshop.ipynb and submit to BrightSpace folder.\n",
    "3.   This assignment is 20% of assessment with marks shown below in each section.\n",
    "4.   Please follow the instruction in ###### TO DO ###### to show the required outputs.\n",
    "\n"
   ]
  },
  {
   "cell_type": "code",
   "execution_count": null,
   "metadata": {
    "executionInfo": {
     "elapsed": 13,
     "status": "aborted",
     "timestamp": 1736569455211,
     "user": {
      "displayName": "丂アム尺尺のW",
      "userId": "12447536972865559999"
     },
     "user_tz": -480
    },
    "id": "w5ISn6qOGC3L"
   },
   "outputs": [],
   "source": [
    "## Import Libraries\n",
    "# Object manipulation\n",
    "import statistics\n",
    "import numpy as np\n",
    "import pandas as pd\n",
    "from collections import defaultdict\n",
    "\n",
    "# Plot\n",
    "import matplotlib.pyplot as plt\n",
    "import plotly.graph_objects as go\n",
    "import plotly.express as px\n",
    "from plotly.subplots import make_subplots\n",
    "import plotly.figure_factory as ff\n",
    "import seaborn as sns"
   ]
  },
  {
   "cell_type": "markdown",
   "metadata": {
    "id": "zM4I1dbK6Fek"
   },
   "source": [
    "## **Read in Datasets as Dataframes**"
   ]
  },
  {
   "cell_type": "code",
   "execution_count": null,
   "metadata": {
    "executionInfo": {
     "elapsed": 12,
     "status": "aborted",
     "timestamp": 1736569455211,
     "user": {
      "displayName": "丂アム尺尺のW",
      "userId": "12447536972865559999"
     },
     "user_tz": -480
    },
    "id": "3QWTkR7cGhDf"
   },
   "outputs": [],
   "source": [
    "#### Read the CoffeeShop_Visits.csv file as a dataframe in Pandas library, and name the dataframe as df_visit\n",
    "df_visit = pd.read_csv(\"CoffeeShop_Visits.csv\")\n",
    "print(df_visit)\n"
   ]
  },
  {
   "cell_type": "code",
   "execution_count": null,
   "metadata": {
    "executionInfo": {
     "elapsed": 12,
     "status": "aborted",
     "timestamp": 1736569455211,
     "user": {
      "displayName": "丂アム尺尺のW",
      "userId": "12447536972865559999"
     },
     "user_tz": -480
    },
    "id": "pnoERqbFukvc"
   },
   "outputs": [],
   "source": [
    "#### Read the CoffeeShop_Customers.csv file as a dataframe in Pandas library, and name the dataframe as df_customer\n",
    "\n",
    "df_customer = pd.read_csv(\"CoffeeShop_Customers.csv\")"
   ]
  },
  {
   "cell_type": "code",
   "execution_count": null,
   "metadata": {
    "executionInfo": {
     "elapsed": 13,
     "status": "aborted",
     "timestamp": 1736569455212,
     "user": {
      "displayName": "丂アム尺尺のW",
      "userId": "12447536972865559999"
     },
     "user_tz": -480
    },
    "id": "v1C4h9Y-v1Qs"
   },
   "outputs": [],
   "source": [
    "## Merge 2 dataframes together\n",
    "## https://datacarpentry.org/python-socialsci/11-joins/index.html\n",
    "\n",
    "df = pd.merge(df_visit, df_customer, how='left', left_on = 'Name', right_on = 'Name')\n",
    "df.head(5)"
   ]
  },
  {
   "cell_type": "code",
   "execution_count": null,
   "metadata": {
    "executionInfo": {
     "elapsed": 13,
     "status": "aborted",
     "timestamp": 1736569455212,
     "user": {
      "displayName": "丂アム尺尺のW",
      "userId": "12447536972865559999"
     },
     "user_tz": -480
    },
    "id": "0aaNbJCNLtZK"
   },
   "outputs": [],
   "source": [
    "## Get information of the merged dataset by showing how many rows and columns, and what are the column names\n",
    "df.info()\n",
    "\n",
    "print('\\nThe dataframe contains', df.shape[0],\"rows and\",df.shape[1],\"columns\")\n",
    "print('The column names are', [df.columns[i] for i in range(df.shape[1])], \"\\n\")\n"
   ]
  },
  {
   "cell_type": "markdown",
   "metadata": {
    "id": "6pNB0eE77kQE"
   },
   "source": [
    "## **Data Cleaning - Remove Duplicates**"
   ]
  },
  {
   "cell_type": "code",
   "execution_count": null,
   "metadata": {
    "executionInfo": {
     "elapsed": 12,
     "status": "aborted",
     "timestamp": 1736569455212,
     "user": {
      "displayName": "丂アム尺尺のW",
      "userId": "12447536972865559999"
     },
     "user_tz": -480
    },
    "id": "oADYV-VR7kQG"
   },
   "outputs": [],
   "source": [
    "##### make a copy of the original dataframe, in case we still need it.\n",
    "df2 = df.copy()"
   ]
  },
  {
   "cell_type": "code",
   "execution_count": null,
   "metadata": {
    "executionInfo": {
     "elapsed": 12,
     "status": "aborted",
     "timestamp": 1736569455212,
     "user": {
      "displayName": "丂アム尺尺のW",
      "userId": "12447536972865559999"
     },
     "user_tz": -480
    },
    "id": "7QoNtv0B7kQI"
   },
   "outputs": [],
   "source": [
    "## Check if there is any duplicate rows. If yes, how many of them\n",
    "rows_duplicate = df2[df2.duplicated()]\n",
    "print('There are ', rows_duplicate.shape[0], 'number of duplicate rows')"
   ]
  },
  {
   "cell_type": "code",
   "execution_count": null,
   "metadata": {
    "executionInfo": {
     "elapsed": 12,
     "status": "aborted",
     "timestamp": 1736569455212,
     "user": {
      "displayName": "丂アム尺尺のW",
      "userId": "12447536972865559999"
     },
     "user_tz": -480
    },
    "id": "qZlUVoQ07kQI"
   },
   "outputs": [],
   "source": [
    "## Remove the duplicate data\n",
    "df2 = df2.drop_duplicates()\n",
    "df2.head(5)"
   ]
  },
  {
   "cell_type": "code",
   "execution_count": null,
   "metadata": {
    "executionInfo": {
     "elapsed": 11,
     "status": "aborted",
     "timestamp": 1736569455212,
     "user": {
      "displayName": "丂アム尺尺のW",
      "userId": "12447536972865559999"
     },
     "user_tz": -480
    },
    "id": "KF7q4wnd7kQJ"
   },
   "outputs": [],
   "source": [
    "## Show the number of rows and columns after removing duplicate rows\n",
    "df2.shape\n",
    "print('The number of rows are', df2.shape[0],' and number of columns are', df2.shape[1],'.')"
   ]
  },
  {
   "cell_type": "code",
   "execution_count": null,
   "metadata": {
    "id": "zMmYBuVdm834"
   },
   "outputs": [],
   "source": [
    "from google.colab import drive\n",
    "drive.mount('/content/drive')"
   ]
  },
  {
   "cell_type": "markdown",
   "metadata": {
    "id": "nAS6vl2d63mY"
   },
   "source": [
    "## **Data cleaning - Check Missing Data**"
   ]
  },
  {
   "cell_type": "code",
   "execution_count": null,
   "metadata": {
    "executionInfo": {
     "elapsed": 12,
     "status": "aborted",
     "timestamp": 1736569455213,
     "user": {
      "displayName": "丂アム尺尺のW",
      "userId": "12447536972865559999"
     },
     "user_tz": -480
    },
    "id": "Fr6FsXXl63ma"
   },
   "outputs": [],
   "source": [
    "# Check how many missing cells for each column\n",
    "df.isnull().sum()"
   ]
  },
  {
   "cell_type": "code",
   "execution_count": null,
   "metadata": {
    "executionInfo": {
     "elapsed": 12,
     "status": "aborted",
     "timestamp": 1736569455213,
     "user": {
      "displayName": "丂アム尺尺のW",
      "userId": "12447536972865559999"
     },
     "user_tz": -480
    },
    "id": "3N7RZboN0cr4"
   },
   "outputs": [],
   "source": [
    "index=df2.isnull().sum()>0\n",
    "print('The column which contain missing cells are', [df.columns[index][i] for i in range(sum(index))])\n",
    "print('The total number of missing cells is 17')"
   ]
  },
  {
   "cell_type": "markdown",
   "metadata": {
    "id": "SbCltowg7GEO"
   },
   "source": [
    "## **Data cleaning - Missing Data - Approach : drop rows which contain NA values**"
   ]
  },
  {
   "cell_type": "code",
   "execution_count": null,
   "metadata": {
    "executionInfo": {
     "elapsed": 12,
     "status": "aborted",
     "timestamp": 1736569455213,
     "user": {
      "displayName": "丂アム尺尺のW",
      "userId": "12447536972865559999"
     },
     "user_tz": -480
    },
    "id": "e_n3eCrp7GEP"
   },
   "outputs": [],
   "source": [
    "# Drop rows containing at least one NA\n",
    "df_drop_rows_with_na = df2.dropna()"
   ]
  },
  {
   "cell_type": "code",
   "execution_count": null,
   "metadata": {
    "executionInfo": {
     "elapsed": 12,
     "status": "aborted",
     "timestamp": 1736569455213,
     "user": {
      "displayName": "丂アム尺尺のW",
      "userId": "12447536972865559999"
     },
     "user_tz": -480
    },
    "id": "0OwLVfmV7GEP"
   },
   "outputs": [],
   "source": [
    "# Check how many rows left after removing the NAs\n",
    "(df.shape[0] - df_drop_rows_with_na.shape[0]) / df.shape[0]"
   ]
  },
  {
   "cell_type": "markdown",
   "metadata": {
    "id": "jPfFNikKkHX-"
   },
   "source": [
    "\n",
    "## **Data Cleaning - Correct wrong data entries**\n",
    "\n",
    "\n",
    "\n",
    "\n",
    "\n",
    "\n",
    "\n",
    "\n"
   ]
  },
  {
   "cell_type": "code",
   "execution_count": null,
   "metadata": {
    "executionInfo": {
     "elapsed": 12,
     "status": "aborted",
     "timestamp": 1736569455213,
     "user": {
      "displayName": "丂アム尺尺のW",
      "userId": "12447536972865559999"
     },
     "user_tz": -480
    },
    "id": "N0pSq9tJ0Txi"
   },
   "outputs": [],
   "source": [
    "## Make a copy of the data after removing missing cells\n",
    "## Display the first 5 rows of the dataset\n",
    "df3 = df2.copy()\n",
    "df3.head(5)"
   ]
  },
  {
   "cell_type": "markdown",
   "metadata": {
    "id": "tDb_B0TjjGMk"
   },
   "source": [
    "**Wrong data types**"
   ]
  },
  {
   "cell_type": "code",
   "execution_count": null,
   "metadata": {
    "executionInfo": {
     "elapsed": 12,
     "status": "aborted",
     "timestamp": 1736569455213,
     "user": {
      "displayName": "丂アム尺尺のW",
      "userId": "12447536972865559999"
     },
     "user_tz": -480
    },
    "id": "nhaLzl7dxbrE"
   },
   "outputs": [],
   "source": [
    "## For the \"Age\" column, convert the data type to integer instead of float\n",
    "## Display the first 5 rows of the dataset after conversion of data type\n",
    "df3['Age'] = df3['Age'].fillna(0).astype(int)\n",
    "df3.head(5)\n"
   ]
  },
  {
   "cell_type": "markdown",
   "metadata": {
    "id": "m3ooYqLFjLuU"
   },
   "source": [
    "**Typo Errors**"
   ]
  },
  {
   "cell_type": "code",
   "execution_count": null,
   "metadata": {
    "executionInfo": {
     "elapsed": 11,
     "status": "aborted",
     "timestamp": 1736569455213,
     "user": {
      "displayName": "丂アム尺尺のW",
      "userId": "12447536972865559999"
     },
     "user_tz": -480
    },
    "id": "3iSA9Wy90n8L"
   },
   "outputs": [],
   "source": [
    "### Display the categories in column \"Order\"\n",
    "df3['Order'].value_counts()"
   ]
  },
  {
   "cell_type": "code",
   "execution_count": null,
   "metadata": {
    "executionInfo": {
     "elapsed": 11,
     "status": "aborted",
     "timestamp": 1736569455213,
     "user": {
      "displayName": "丂アム尺尺のW",
      "userId": "12447536972865559999"
     },
     "user_tz": -480
    },
    "id": "8bnswcCX00hT"
   },
   "outputs": [],
   "source": [
    "### Correct wrong entry in Order for \"Tea\" by changing \"T\" and \"tea\" to \"Tea\"\n",
    "df3.loc[(df3['Order']=='T') | (df3['Order']=='tea'), 'Order'] = 'Tea'"
   ]
  },
  {
   "cell_type": "code",
   "execution_count": null,
   "metadata": {
    "executionInfo": {
     "elapsed": 12,
     "status": "aborted",
     "timestamp": 1736569455214,
     "user": {
      "displayName": "丂アム尺尺のW",
      "userId": "12447536972865559999"
     },
     "user_tz": -480
    },
    "id": "Dav1p1gu2FEi"
   },
   "outputs": [],
   "source": [
    "### Continue to correct the rest of wrong entries in the \"Order\" column to make them consistent\n",
    "df3.loc[(df3['Order']=='flat white') | (df3['Order']=='Flat White'), 'Order'] = 'Flat white'\n",
    "df3.loc[(df3['Order']=='Cappaccino') | (df3['Order']=='Cappucino') | (df3['Order']=='Cappccino') | (df3['Order']=='Capuccino') | (df3['Order']=='Cappuchino'), 'Order'] = 'Cappuccino'\n",
    "df3.loc[(df3['Order']=='Double Expresso') | (df3['Order']=='Dble Espresso'), 'Order'] = 'Double Espresso'\n",
    "df3.loc[(df3['Order']=='American') | (df3['Order']=='americano') | (df3['Order']=='americana'), 'Order'] = 'Americano'\n",
    "df3.loc[(df3['Order']=='DEspresso') | (df3['Order']=='Espressox2'), 'Order'] = 'Espresso'\n",
    "df3.loc[(df3['Order']=='Late') | (df3['Order']=='Latta') | (df3['Order']=='Clatte') | (df3['Order']=='Latt') | (df3['Order']=='latte'), 'Order'] = 'Latte'\n",
    "df3.loc[(df3['Order']=='Caramel Late') | (df3['Order']=='Caramel Latt') | (df3['Order']=='Caramel Latte'), 'Order'] = 'Caramel Latte'\n",
    "df3.loc[(df3['Order']=='Moca'), 'Order'] = 'Mocha'\n",
    "\n",
    "df3['Order'].value_counts()"
   ]
  },
  {
   "cell_type": "markdown",
   "metadata": {
    "id": "PKRlR9EEjUTS"
   },
   "source": [
    "**Inconsistent Entries**"
   ]
  },
  {
   "cell_type": "code",
   "execution_count": null,
   "metadata": {
    "executionInfo": {
     "elapsed": 12,
     "status": "aborted",
     "timestamp": 1736569455214,
     "user": {
      "displayName": "丂アム尺尺のW",
      "userId": "12447536972865559999"
     },
     "user_tz": -480
    },
    "id": "kHscla662PNJ"
   },
   "outputs": [],
   "source": [
    "## For \"Phone Number\" column, some have 65 in front. Extract only the last 8 digit of the phone number to make data consistent.\n",
    "## Convert this column to string.\n",
    "df3[['Phone number']] = df3[['Phone number']].astype('str')\n",
    "\n",
    "#Extract last few characters of a string in the column\n",
    "df3['Phone number'] = df3['Phone number'].str[-8:]\n",
    "\n",
    "df3.head(10)"
   ]
  },
  {
   "cell_type": "markdown",
   "metadata": {
    "id": "YHs3NaA2jg2U"
   },
   "source": [
    "**Any Other Error?**"
   ]
  },
  {
   "cell_type": "code",
   "execution_count": null,
   "metadata": {
    "executionInfo": {
     "elapsed": 11,
     "status": "aborted",
     "timestamp": 1736569455214,
     "user": {
      "displayName": "丂アム尺尺のW",
      "userId": "12447536972865559999"
     },
     "user_tz": -480
    },
    "id": "YGN4KnoS9MiQ"
   },
   "outputs": [],
   "source": [
    "## Check ALL other columns and see if it is necessary to make any corrections"
   ]
  },
  {
   "cell_type": "code",
   "execution_count": null,
   "metadata": {
    "executionInfo": {
     "elapsed": 11,
     "status": "aborted",
     "timestamp": 1736569455214,
     "user": {
      "displayName": "丂アム尺尺のW",
      "userId": "12447536972865559999"
     },
     "user_tz": -480
    },
    "id": "nXQanYHSgzSL"
   },
   "outputs": [],
   "source": [
    "df3['Ambience rating'] = df3['Ambience rating'].fillna(0).astype(int)\n",
    "df3['Waiting Time'] = df3['Waiting Time'].fillna(0).astype(int)\n",
    "df3['Product Rating'] = df3['Product Rating'].fillna(0).astype(int)\n",
    "df3.loc[(df3['Ambience rating']=='Ambience rating'), 'Ambience rating'] = 'Ambience Rating'"
   ]
  },
  {
   "cell_type": "code",
   "execution_count": null,
   "metadata": {
    "executionInfo": {
     "elapsed": 11,
     "status": "aborted",
     "timestamp": 1736569455214,
     "user": {
      "displayName": "丂アム尺尺のW",
      "userId": "12447536972865559999"
     },
     "user_tz": -480
    },
    "id": "gl0yZjE9-OQb"
   },
   "outputs": [],
   "source": [
    "df3.loc[(df3['Date of Visit']=='Mon'), 'Date of Visit'] = 'Monday'\n",
    "df3.loc[(df3['Date of Visit']=='Tues'), 'Date of Visit'] = 'TuesdQay'\n",
    "df3.loc[(df3['Date of Visit']=='Fridayday'), 'Date of Visit'] = 'Friday'\n",
    "df3.loc[(df3['Date of Visit']=='Thurs '), 'Date of Visit'] = 'Thursday'\n",
    "df3['Date of Visit'].value_counts()"
   ]
  },
  {
   "cell_type": "code",
   "execution_count": null,
   "metadata": {
    "executionInfo": {
     "elapsed": 11,
     "status": "aborted",
     "timestamp": 1736569455214,
     "user": {
      "displayName": "丂アム尺尺のW",
      "userId": "12447536972865559999"
     },
     "user_tz": -480
    },
    "id": "Uu9Gwf8bbmaY"
   },
   "outputs": [],
   "source": [
    "df3.loc[(df['Store Visited']=='AMK'), 'Store Visited'] = 'Ang Mo Kio'\n",
    "df3['Store Visited'].value_counts()"
   ]
  },
  {
   "cell_type": "markdown",
   "metadata": {
    "id": "0wCO0zAa9M7H"
   },
   "source": [
    "# **Data Exploration**"
   ]
  },
  {
   "cell_type": "code",
   "execution_count": null,
   "metadata": {
    "executionInfo": {
     "elapsed": 11,
     "status": "aborted",
     "timestamp": 1736569455214,
     "user": {
      "displayName": "丂アム尺尺のW",
      "userId": "12447536972865559999"
     },
     "user_tz": -480
    },
    "id": "jU97QnQz9SIZ"
   },
   "outputs": [],
   "source": [
    "#####Show at least 5 meaingful insights, using charts / text. :\n",
    "# Which Products are most popular?\n",
    "# Which gender/age group visits most often?\n",
    "# Are some shops more popular?\n",
    "# Does the product type affect the rating / waiting time?\n",
    "# Is the ambience rating/ waiting time affected by store locations (CBD/Heartland)?"
   ]
  },
  {
   "cell_type": "code",
   "execution_count": null,
   "metadata": {
    "executionInfo": {
     "elapsed": 10548,
     "status": "aborted",
     "timestamp": 1736569455216,
     "user": {
      "displayName": "丂アム尺尺のW",
      "userId": "12447536972865559999"
     },
     "user_tz": -480
    },
    "id": "Th7EHEPk93Q4"
   },
   "outputs": [],
   "source": [
    "# Which Products are most popular?"
   ]
  },
  {
   "cell_type": "code",
   "execution_count": null,
   "metadata": {
    "executionInfo": {
     "elapsed": 10546,
     "status": "aborted",
     "timestamp": 1736569455217,
     "user": {
      "displayName": "丂アム尺尺のW",
      "userId": "12447536972865559999"
     },
     "user_tz": -480
    },
    "id": "1R-geBNrkIja"
   },
   "outputs": [],
   "source": [
    "df3['Order'].value_counts()"
   ]
  },
  {
   "cell_type": "code",
   "execution_count": null,
   "metadata": {
    "executionInfo": {
     "elapsed": 10543,
     "status": "aborted",
     "timestamp": 1736569455217,
     "user": {
      "displayName": "丂アム尺尺のW",
      "userId": "12447536972865559999"
     },
     "user_tz": -480
    },
    "id": "AOHpurvsliFx"
   },
   "outputs": [],
   "source": [
    "plt.figure(figsize = (20,12))\n",
    "sns.countplot(data = df3, y = \"Order\");"
   ]
  },
  {
   "cell_type": "code",
   "execution_count": null,
   "metadata": {
    "executionInfo": {
     "elapsed": 10540,
     "status": "aborted",
     "timestamp": 1736569455217,
     "user": {
      "displayName": "丂アム尺尺のW",
      "userId": "12447536972865559999"
     },
     "user_tz": -480
    },
    "id": "iOHk-zwNU6kd"
   },
   "outputs": [],
   "source": [
    "counts = df3['Order'].value_counts()*100/sum(df3['Order'].value_counts())\n",
    "popular_labels = counts.index[:10]   # Top 10\n",
    "popular_labels\n",
    "colors = ['lightslategray',] * len(popular_labels)\n",
    "colors[0] = 'crimson'\n",
    "fig = go.Figure(data=[go.Bar(\n",
    "    x=counts[:10],\n",
    "    y=popular_labels,\n",
    "    marker_color=colors, # marker color can be a single color value or an iterable\n",
    "    orientation='h'\n",
    ")])\n",
    "\n",
    "fig.update_layout(title_text='Proportion of Order (in %)',\n",
    "                  xaxis_title=\"Percentage\",\n",
    "                  yaxis_title=\"Order\")"
   ]
  },
  {
   "cell_type": "code",
   "execution_count": null,
   "metadata": {
    "executionInfo": {
     "elapsed": 10540,
     "status": "aborted",
     "timestamp": 1736569455217,
     "user": {
      "displayName": "丂アム尺尺のW",
      "userId": "12447536972865559999"
     },
     "user_tz": -480
    },
    "id": "19IN5t2-Q57z"
   },
   "outputs": [],
   "source": [
    "#Conclusion: Cappuccino is the most popular drink since it has the most number of counts."
   ]
  },
  {
   "cell_type": "code",
   "execution_count": null,
   "metadata": {
    "executionInfo": {
     "elapsed": 10540,
     "status": "aborted",
     "timestamp": 1736569455218,
     "user": {
      "displayName": "丂アム尺尺のW",
      "userId": "12447536972865559999"
     },
     "user_tz": -480
    },
    "id": "fdFBpfYNlOZa"
   },
   "outputs": [],
   "source": [
    "# Which gender/age group visits most often?"
   ]
  },
  {
   "cell_type": "code",
   "execution_count": null,
   "metadata": {
    "executionInfo": {
     "elapsed": 10537,
     "status": "aborted",
     "timestamp": 1736569455218,
     "user": {
      "displayName": "丂アム尺尺のW",
      "userId": "12447536972865559999"
     },
     "user_tz": -480
    },
    "id": "GtaEcfzHk2bw"
   },
   "outputs": [],
   "source": [
    "plt.figure(figsize = (20,12))\n",
    "sns.countplot(data = df3, y = \"Gender\");"
   ]
  },
  {
   "cell_type": "code",
   "execution_count": null,
   "metadata": {
    "executionInfo": {
     "elapsed": 10533,
     "status": "aborted",
     "timestamp": 1736569455218,
     "user": {
      "displayName": "丂アム尺尺のW",
      "userId": "12447536972865559999"
     },
     "user_tz": -480
    },
    "id": "z_Y5HYrck2bx"
   },
   "outputs": [],
   "source": [
    "plt.figure(figsize = (20,12))\n",
    "sns.countplot(data = df3, y = \"Age\");"
   ]
  },
  {
   "cell_type": "code",
   "execution_count": null,
   "metadata": {
    "executionInfo": {
     "elapsed": 10532,
     "status": "aborted",
     "timestamp": 1736569455218,
     "user": {
      "displayName": "丂アム尺尺のW",
      "userId": "12447536972865559999"
     },
     "user_tz": -480
    },
    "id": "TUxJsmSck2bx"
   },
   "outputs": [],
   "source": [
    "#Conclusion: The most number of Gender visit is Female, and the most number of Age group visit is 15."
   ]
  },
  {
   "cell_type": "code",
   "execution_count": null,
   "metadata": {
    "executionInfo": {
     "elapsed": 10532,
     "status": "aborted",
     "timestamp": 1736569455218,
     "user": {
      "displayName": "丂アム尺尺のW",
      "userId": "12447536972865559999"
     },
     "user_tz": -480
    },
    "id": "h4Fw5SHclSjr"
   },
   "outputs": [],
   "source": [
    "# Are some shops more popular?"
   ]
  },
  {
   "cell_type": "code",
   "execution_count": null,
   "metadata": {
    "executionInfo": {
     "elapsed": 7,
     "status": "aborted",
     "timestamp": 1736569455541,
     "user": {
      "displayName": "丂アム尺尺のW",
      "userId": "12447536972865559999"
     },
     "user_tz": -480
    },
    "id": "0MBMM6zSVBsr"
   },
   "outputs": [],
   "source": [
    "df3['Store Visited'].value_counts()"
   ]
  },
  {
   "cell_type": "code",
   "execution_count": null,
   "metadata": {
    "executionInfo": {
     "elapsed": 7,
     "status": "aborted",
     "timestamp": 1736569455541,
     "user": {
      "displayName": "丂アム尺尺のW",
      "userId": "12447536972865559999"
     },
     "user_tz": -480
    },
    "id": "ySnOrvaJk3BZ"
   },
   "outputs": [],
   "source": [
    "counts = df3['Store Visited'].value_counts()*100/sum(df3['Store Visited'].value_counts())\n",
    "popular_labels = counts.index[:10]   # Top 10\n",
    "popular_labels\n",
    "colors = ['lightslategray',] * len(popular_labels)\n",
    "colors[0] = 'crimson'\n",
    "fig = go.Figure(data=[go.Bar(\n",
    "    x=counts[:10],\n",
    "    y=popular_labels,\n",
    "    marker_color=colors, # marker color can be a single color value or an iterable\n",
    "    orientation='h'\n",
    ")])\n",
    "\n",
    "fig.update_layout(title_text='Proportion of Order (in %)',\n",
    "                  xaxis_title=\"Percentage\",\n",
    "                  yaxis_title=\"Store Visited\")"
   ]
  },
  {
   "cell_type": "code",
   "execution_count": null,
   "metadata": {
    "executionInfo": {
     "elapsed": 7,
     "status": "aborted",
     "timestamp": 1736569455542,
     "user": {
      "displayName": "丂アム尺尺のW",
      "userId": "12447536972865559999"
     },
     "user_tz": -480
    },
    "id": "r1y7GIsvk3BZ"
   },
   "outputs": [],
   "source": [
    "plt.figure(figsize = (15,12))\n",
    "sns.barplot(data = df3, y = \"Ambience rating\", x=\"Store Visited\");"
   ]
  },
  {
   "cell_type": "code",
   "execution_count": null,
   "metadata": {
    "executionInfo": {
     "elapsed": 7,
     "status": "aborted",
     "timestamp": 1736569455542,
     "user": {
      "displayName": "丂アム尺尺のW",
      "userId": "12447536972865559999"
     },
     "user_tz": -480
    },
    "id": "qaz_SN0tI_vP"
   },
   "outputs": [],
   "source": [
    "plt.figure(figsize = (15,12))\n",
    "sns.barplot(data = df3, y = \"Product Rating\", x=\"Store Visited\");"
   ]
  },
  {
   "cell_type": "code",
   "execution_count": null,
   "metadata": {
    "executionInfo": {
     "elapsed": 7,
     "status": "aborted",
     "timestamp": 1736569455542,
     "user": {
      "displayName": "丂アム尺尺のW",
      "userId": "12447536972865559999"
     },
     "user_tz": -480
    },
    "id": "ZOfano3Fk3Ba"
   },
   "outputs": [],
   "source": [
    "#Some shops are popular since data above shows Ang Mo Kio being the highest for Stores Visited, 2nd highest in product rating and 3rd highest in ambience rating."
   ]
  },
  {
   "cell_type": "code",
   "execution_count": null,
   "metadata": {
    "executionInfo": {
     "elapsed": 7,
     "status": "aborted",
     "timestamp": 1736569455542,
     "user": {
      "displayName": "丂アム尺尺のW",
      "userId": "12447536972865559999"
     },
     "user_tz": -480
    },
    "id": "r9wb40BalWDw"
   },
   "outputs": [],
   "source": [
    "# Does the product type affect the rating / waiting time?"
   ]
  },
  {
   "cell_type": "code",
   "execution_count": null,
   "metadata": {
    "executionInfo": {
     "elapsed": 7,
     "status": "aborted",
     "timestamp": 1736569455542,
     "user": {
      "displayName": "丂アム尺尺のW",
      "userId": "12447536972865559999"
     },
     "user_tz": -480
    },
    "id": "klYGloNjk3PQ"
   },
   "outputs": [],
   "source": [
    "plt.figure(figsize = (15,12))\n",
    "sns.barplot(data = df3, y = \"Order\", x=\"Product Rating\");"
   ]
  },
  {
   "cell_type": "code",
   "execution_count": null,
   "metadata": {
    "executionInfo": {
     "elapsed": 7,
     "status": "aborted",
     "timestamp": 1736569455542,
     "user": {
      "displayName": "丂アム尺尺のW",
      "userId": "12447536972865559999"
     },
     "user_tz": -480
    },
    "id": "H6OKtoqsk3PR"
   },
   "outputs": [],
   "source": [
    "plt.figure(figsize = (15,12))\n",
    "sns.countplot(data = df3, y='Order');"
   ]
  },
  {
   "cell_type": "code",
   "execution_count": null,
   "metadata": {
    "executionInfo": {
     "elapsed": 7,
     "status": "aborted",
     "timestamp": 1736569455542,
     "user": {
      "displayName": "丂アム尺尺のW",
      "userId": "12447536972865559999"
     },
     "user_tz": -480
    },
    "id": "sbm11dVsV4pd"
   },
   "outputs": [],
   "source": [
    "plt.figure(figsize = (15,12))\n",
    "sns.barplot(data = df3, x='Waiting Time', y=\"Order\");"
   ]
  },
  {
   "cell_type": "code",
   "execution_count": null,
   "metadata": {
    "executionInfo": {
     "elapsed": 6,
     "status": "aborted",
     "timestamp": 1736569455542,
     "user": {
      "displayName": "丂アム尺尺のW",
      "userId": "12447536972865559999"
     },
     "user_tz": -480
    },
    "id": "s2E5mO-Bk3PR"
   },
   "outputs": [],
   "source": [
    "#Conclusion: The product type does not affect the rating because the Flat white order count is the lowest but it has the highest product rating.\n",
    "#Moreover, the waiting time as well as order count for Americano is the 3rd highest. However, Flat white waiting time is highest but lowest in order count. Therefore, product type also does not affect waiting time."
   ]
  },
  {
   "cell_type": "code",
   "execution_count": null,
   "metadata": {
    "executionInfo": {
     "elapsed": 7,
     "status": "aborted",
     "timestamp": 1736569455543,
     "user": {
      "displayName": "丂アム尺尺のW",
      "userId": "12447536972865559999"
     },
     "user_tz": -480
    },
    "id": "nKH2Cplzk3gi"
   },
   "outputs": [],
   "source": [
    "# Is the ambience rating/waiting time affected by store locations (CBD/Heartland)?"
   ]
  },
  {
   "cell_type": "code",
   "execution_count": null,
   "metadata": {
    "executionInfo": {
     "elapsed": 7,
     "status": "aborted",
     "timestamp": 1736569455543,
     "user": {
      "displayName": "丂アム尺尺のW",
      "userId": "12447536972865559999"
     },
     "user_tz": -480
    },
    "id": "_me9JF2-k3gj"
   },
   "outputs": [],
   "source": [
    "plt.figure(figsize = (15,12))\n",
    "sns.barplot(data = df3, y='Store Visited', x='Waiting Time');\n",
    "#Highest store visited is Ang Mo Ko and Jurong."
   ]
  },
  {
   "cell_type": "code",
   "execution_count": null,
   "metadata": {
    "executionInfo": {
     "elapsed": 7,
     "status": "aborted",
     "timestamp": 1736569455543,
     "user": {
      "displayName": "丂アム尺尺のW",
      "userId": "12447536972865559999"
     },
     "user_tz": -480
    },
    "id": "cjC7zTQZYY0j"
   },
   "outputs": [],
   "source": [
    "df3['Waiting Time'].value_counts()"
   ]
  },
  {
   "cell_type": "code",
   "execution_count": null,
   "metadata": {
    "executionInfo": {
     "elapsed": 7,
     "status": "aborted",
     "timestamp": 1736569455543,
     "user": {
      "displayName": "丂アム尺尺のW",
      "userId": "12447536972865559999"
     },
     "user_tz": -480
    },
    "id": "qziwrpsKYcxr"
   },
   "outputs": [],
   "source": [
    "counts = df3['Waiting Time'].value_counts()*100/sum(df3['Waiting Time'].value_counts())\n",
    "popular_labels = counts.index[:10]   # Top 10\n",
    "popular_labels\n",
    "colors = ['lightslategray',] * len(popular_labels)\n",
    "colors[0] = 'crimson'\n",
    "fig = go.Figure(data=[go.Bar(\n",
    "    x=counts[:10],\n",
    "    y=popular_labels,\n",
    "    marker_color=colors, # marker color can be a single color value or an iterable\n",
    "    orientation='h'\n",
    ")])\n",
    "\n",
    "fig.update_layout(title_text='Proportion of Order (in %)',\n",
    "                  xaxis_title=\"Percentage\",\n",
    "                  yaxis_title=\"Waiting Time\")"
   ]
  },
  {
   "cell_type": "code",
   "execution_count": null,
   "metadata": {
    "executionInfo": {
     "elapsed": 7,
     "status": "aborted",
     "timestamp": 1736569455543,
     "user": {
      "displayName": "丂アム尺尺のW",
      "userId": "12447536972865559999"
     },
     "user_tz": -480
    },
    "id": "WsV-nBaqk3gj"
   },
   "outputs": [],
   "source": [
    "df3['Store Visited'].value_counts()"
   ]
  },
  {
   "cell_type": "code",
   "execution_count": null,
   "metadata": {
    "executionInfo": {
     "elapsed": 6,
     "status": "aborted",
     "timestamp": 1736569455543,
     "user": {
      "displayName": "丂アム尺尺のW",
      "userId": "12447536972865559999"
     },
     "user_tz": -480
    },
    "id": "DZWIdDwJx5FM"
   },
   "outputs": [],
   "source": [
    "plt.figure(figsize = (15,12))\n",
    "sns.barplot(data = df3, y='Store Visited', x='Ambience rating');\n",
    "#Highest ambience rating is Tampines."
   ]
  },
  {
   "cell_type": "code",
   "execution_count": null,
   "metadata": {
    "executionInfo": {
     "elapsed": 6,
     "status": "aborted",
     "timestamp": 1736569455543,
     "user": {
      "displayName": "丂アム尺尺のW",
      "userId": "12447536972865559999"
     },
     "user_tz": -480
    },
    "id": "XVOJ4LpwuYe8"
   },
   "outputs": [],
   "source": [
    "#The more people visited in Ang Mo Kio, the higher the waiting time. Therefore, waiting time is affected by Store location.\n",
    "#However, ambience rating is not affected by store locations as the 2nd highest ambence raitng is Orchard and Orchard has the lowest store visited counts.\n",
    "#Results showed that the most ordered drink was Cappuccino with 201 orders, accounting for 27.35% of 9 total drinks, and the most visited store was Ang Mo Kio with 257 visits, accounting for 21.4% of 5 total stores."
   ]
  }
 ],
 "metadata": {
  "colab": {
   "provenance": []
  },
  "kernelspec": {
   "display_name": "Python 3",
   "name": "python3"
  },
  "language_info": {
   "name": "python"
  }
 },
 "nbformat": 4,
 "nbformat_minor": 0
}
